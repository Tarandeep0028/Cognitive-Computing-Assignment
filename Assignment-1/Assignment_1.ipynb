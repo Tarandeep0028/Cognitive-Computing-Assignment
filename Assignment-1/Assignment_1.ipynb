{
  "nbformat": 4,
  "nbformat_minor": 0,
  "metadata": {
    "colab": {
      "provenance": []
    },
    "kernelspec": {
      "name": "python3",
      "display_name": "Python 3"
    },
    "language_info": {
      "name": "python"
    }
  },
  "cells": [
    {
      "cell_type": "markdown",
      "source": [
        "Write a Python program to print \"Anything You find cool.\""
      ],
      "metadata": {
        "id": "iHQP2eTTRCx3"
      }
    },
    {
      "cell_type": "code",
      "source": [
        "print(\"hehe\")"
      ],
      "metadata": {
        "colab": {
          "base_uri": "https://localhost:8080/"
        },
        "id": "P_Y2G2MmRHtH",
        "outputId": "0915c333-6ca8-4d22-9018-3172bdadf822"
      },
      "execution_count": null,
      "outputs": [
        {
          "output_type": "stream",
          "name": "stdout",
          "text": [
            "hehe\n"
          ]
        }
      ]
    },
    {
      "cell_type": "markdown",
      "source": [
        "Q2 Add Numbers and Concatenate Strings  \n",
        "2.1 Write a program to add two numbers and print the result.                                  "
      ],
      "metadata": {
        "id": "ujbuhGWeRPo2"
      }
    },
    {
      "cell_type": "code",
      "source": [
        "a = 10\n",
        "b = 12\n",
        "a+b"
      ],
      "metadata": {
        "colab": {
          "base_uri": "https://localhost:8080/"
        },
        "id": "HHSKeoEtSwzc",
        "outputId": "27a600f1-3425-4ccb-b889-6bcb49d0efd2"
      },
      "execution_count": null,
      "outputs": [
        {
          "output_type": "execute_result",
          "data": {
            "text/plain": [
              "22"
            ]
          },
          "metadata": {},
          "execution_count": 10
        }
      ]
    },
    {
      "cell_type": "markdown",
      "source": [
        "2.2 Write a program to concatenate two strings and print the result."
      ],
      "metadata": {
        "id": "DKI5c5end-bQ"
      }
    },
    {
      "cell_type": "code",
      "source": [
        "a = \"Taran\"\n",
        "b = \"deep\"\n",
        "a+b"
      ],
      "metadata": {
        "colab": {
          "base_uri": "https://localhost:8080/",
          "height": 36
        },
        "id": "xDLVfrsIeDLb",
        "outputId": "0f04cd54-00c0-4783-b1f1-aeef853e9179"
      },
      "execution_count": null,
      "outputs": [
        {
          "output_type": "execute_result",
          "data": {
            "text/plain": [
              "'Tarandeep'"
            ],
            "application/vnd.google.colaboratory.intrinsic+json": {
              "type": "string"
            }
          },
          "metadata": {},
          "execution_count": 12
        }
      ]
    },
    {
      "cell_type": "markdown",
      "source": [
        "2.3 Write a program to concatenate a string and a number and print the result."
      ],
      "metadata": {
        "id": "2Ey0A22reOic"
      }
    },
    {
      "cell_type": "code",
      "source": [
        "print(\"Tarandeep\"+str(28))"
      ],
      "metadata": {
        "id": "ANXAxxoreVT4",
        "colab": {
          "base_uri": "https://localhost:8080/"
        },
        "outputId": "e827be7a-0a28-49af-8ca3-175233bbaaa0"
      },
      "execution_count": null,
      "outputs": [
        {
          "output_type": "stream",
          "name": "stdout",
          "text": [
            "Tarandeep28\n"
          ]
        }
      ]
    },
    {
      "cell_type": "markdown",
      "source": [
        "3.1 Write a Python program to check if a number is positive, negative, or zero\n",
        "using an\n",
        "if-else statement."
      ],
      "metadata": {
        "id": "lQSytsmFhNqh"
      }
    },
    {
      "cell_type": "code",
      "source": [
        "a = 10\n",
        "if a>0:\n",
        "    print(\"positive\")\n",
        "elif a<0:\n",
        "    print(\"negative\")\n",
        "else:\n",
        "    print(\"zero\")"
      ],
      "metadata": {
        "colab": {
          "base_uri": "https://localhost:8080/"
        },
        "id": "XmV5pn3zhSUZ",
        "outputId": "4fa19afa-fe38-4951-efd2-8700bfb89fcf"
      },
      "execution_count": null,
      "outputs": [
        {
          "output_type": "stream",
          "name": "stdout",
          "text": [
            "positive\n"
          ]
        }
      ]
    },
    {
      "cell_type": "markdown",
      "source": [
        "3.2 Write a program to check if a given number is odd or even."
      ],
      "metadata": {
        "id": "vQVnjAdnhu1-"
      }
    },
    {
      "cell_type": "code",
      "source": [
        "a = 12\n",
        "if a%2==0:\n",
        "    print(\"even\")\n",
        "else:\n",
        "    print(\"odd\")"
      ],
      "metadata": {
        "colab": {
          "base_uri": "https://localhost:8080/"
        },
        "id": "Y0gtWpowhyGD",
        "outputId": "2b5a3215-5aa3-402e-9bd8-91e4291ac6c5"
      },
      "execution_count": null,
      "outputs": [
        {
          "output_type": "stream",
          "name": "stdout",
          "text": [
            "even\n"
          ]
        }
      ]
    },
    {
      "cell_type": "markdown",
      "source": [
        " 4.1 Write a program to print numbers from 1 to 10 using a\n",
        "for loop."
      ],
      "metadata": {
        "id": "7F7mdKPfiFuE"
      }
    },
    {
      "cell_type": "code",
      "source": [
        "for i in range(1,11):\n",
        "  print(i)"
      ],
      "metadata": {
        "colab": {
          "base_uri": "https://localhost:8080/"
        },
        "id": "gH6xhe5eiKb-",
        "outputId": "a834a70f-b375-4672-c1e4-6491f37e66ea"
      },
      "execution_count": null,
      "outputs": [
        {
          "output_type": "stream",
          "name": "stdout",
          "text": [
            "1\n",
            "2\n",
            "3\n",
            "4\n",
            "5\n",
            "6\n",
            "7\n",
            "8\n",
            "9\n",
            "10\n"
          ]
        }
      ]
    },
    {
      "cell_type": "markdown",
      "source": [
        "4.2 Write a program to print numbers from 1 to 10 using a\n",
        "while loop."
      ],
      "metadata": {
        "id": "G9MrPCDLigJd"
      }
    },
    {
      "cell_type": "code",
      "source": [
        "i = 1\n",
        "while i in range(1,11):\n",
        "  print(i)\n",
        "  i = i+1"
      ],
      "metadata": {
        "colab": {
          "base_uri": "https://localhost:8080/"
        },
        "id": "4uhG49b-ijXS",
        "outputId": "33f053a2-006f-4807-9206-9ee6c16aaf3b"
      },
      "execution_count": null,
      "outputs": [
        {
          "output_type": "stream",
          "name": "stdout",
          "text": [
            "1\n",
            "2\n",
            "3\n",
            "4\n",
            "5\n",
            "6\n",
            "7\n",
            "8\n",
            "9\n",
            "10\n"
          ]
        }
      ]
    },
    {
      "cell_type": "markdown",
      "source": [
        "4.3 Write a program to calculate the sum of numbers from 1 to 100 using a loop."
      ],
      "metadata": {
        "id": "TmpsMEqHjbHS"
      }
    },
    {
      "cell_type": "code",
      "source": [
        "total = 0\n",
        "for i in range(1,101):\n",
        "  total = total+i\n",
        "print(total)"
      ],
      "metadata": {
        "colab": {
          "base_uri": "https://localhost:8080/"
        },
        "id": "20a_zjc1jlvp",
        "outputId": "73ec6515-6b06-4043-bf83-84afd4388447"
      },
      "execution_count": null,
      "outputs": [
        {
          "output_type": "stream",
          "name": "stdout",
          "text": [
            "5050\n"
          ]
        }
      ]
    },
    {
      "cell_type": "markdown",
      "source": [
        " 5.1 Create a list of 5 numbers. Write a program to find the largest and smallest\n",
        "numbers in the list."
      ],
      "metadata": {
        "id": "NyBGdDUHkDhU"
      }
    },
    {
      "cell_type": "code",
      "source": [
        "numbers = [1,2,3,4,5]\n",
        "max = max(numbers)\n",
        "min = min(numbers)\n",
        "print(max)\n",
        "print(min)"
      ],
      "metadata": {
        "colab": {
          "base_uri": "https://localhost:8080/"
        },
        "id": "iUXOPLYzkHRu",
        "outputId": "774b3018-2ccc-4653-9cb6-a49fd9c4c21e"
      },
      "execution_count": null,
      "outputs": [
        {
          "output_type": "stream",
          "name": "stdout",
          "text": [
            "5\n",
            "1\n"
          ]
        }
      ]
    },
    {
      "cell_type": "markdown",
      "source": [
        " 5.2 Create a dictionary with at least 3 key-value pairs. Write a program to retrieve\n",
        "the value of a given key."
      ],
      "metadata": {
        "id": "iyA3ycJvmQPm"
      }
    },
    {
      "cell_type": "code",
      "source": [
        "dictionary = {1: 'key',2: 'value',3: 'pairs'}\n",
        "print(dictionary)"
      ],
      "metadata": {
        "colab": {
          "base_uri": "https://localhost:8080/"
        },
        "id": "P8DCoA2XmURu",
        "outputId": "4c5676fc-a388-40a1-bc45-723b0c66f27f"
      },
      "execution_count": null,
      "outputs": [
        {
          "output_type": "stream",
          "name": "stdout",
          "text": [
            "{1: 'key', 2: 'value', 3: 'pairs'}\n"
          ]
        }
      ]
    },
    {
      "cell_type": "markdown",
      "source": [
        " 5.3 Write a program to sort a list of numbers in ascending and descending order."
      ],
      "metadata": {
        "id": "hxjbnizrqxUF"
      }
    },
    {
      "cell_type": "code",
      "source": [
        "numbers = [5,7,3,6,2,4,1]\n",
        "numbers.sort()\n",
        "print(numbers)\n",
        "numbers.sort(reverse=True)\n",
        "print(numbers)"
      ],
      "metadata": {
        "colab": {
          "base_uri": "https://localhost:8080/"
        },
        "id": "v0fnAbemq1r8",
        "outputId": "c7667c33-ccb7-4835-a739-adf9e780c465"
      },
      "execution_count": null,
      "outputs": [
        {
          "output_type": "stream",
          "name": "stdout",
          "text": [
            "[1, 2, 3, 4, 5, 6, 7]\n"
          ]
        }
      ]
    },
    {
      "cell_type": "markdown",
      "source": [
        " 5.4 Write a program to merge two dictionaries into one."
      ],
      "metadata": {
        "id": "nw4UTSwqyelx"
      }
    },
    {
      "cell_type": "code",
      "source": [
        "dictionary1 = {1: 'key',2: 'value',3: 'pairs'}\n",
        "dictionary2 = {4: 'key',5: 'value',6: 'pairs'}\n",
        "print(dictionary1|dictionary2)"
      ],
      "metadata": {
        "colab": {
          "base_uri": "https://localhost:8080/"
        },
        "id": "_XoDNUAMyfxm",
        "outputId": "d2f4c59e-086a-4fac-a6f0-583280ae1ca8"
      },
      "execution_count": null,
      "outputs": [
        {
          "output_type": "stream",
          "name": "stdout",
          "text": [
            "{1: 'key', 2: 'value', 3: 'pairs', 4: 'key', 5: 'value', 6: 'pairs'}\n"
          ]
        }
      ]
    },
    {
      "cell_type": "markdown",
      "source": [
        " 6.1 Write a program to count the number of vowels in a given string."
      ],
      "metadata": {
        "id": "u-r1tuJ7yjnW"
      }
    },
    {
      "cell_type": "code",
      "source": [
        "string = \"Tarandeep\"\n",
        "vowels = \"aeiouAEIOU\"\n",
        "count = 0\n",
        "for vowel in string:\n",
        "  if vowel in vowels:\n",
        "    count = count+1\n",
        "print(count)"
      ],
      "metadata": {
        "colab": {
          "base_uri": "https://localhost:8080/"
        },
        "id": "FqgoaU3Fyqsk",
        "outputId": "b0fd70db-e152-4ec3-f590-ea826fb6871a"
      },
      "execution_count": null,
      "outputs": [
        {
          "output_type": "stream",
          "name": "stdout",
          "text": [
            "4\n"
          ]
        }
      ]
    },
    {
      "cell_type": "markdown",
      "source": [
        "6.2 Write a program to reverse a string and print it."
      ],
      "metadata": {
        "id": "DvyGzjco9AK_"
      }
    },
    {
      "cell_type": "code",
      "source": [
        "string = \"Tarandeep\"\n",
        "reverse = string[::-1]\n",
        "print(reverse)"
      ],
      "metadata": {
        "colab": {
          "base_uri": "https://localhost:8080/"
        },
        "id": "X8-8ZHE49DVM",
        "outputId": "96d7d142-9645-4d63-bd96-a90134757ff5"
      },
      "execution_count": null,
      "outputs": [
        {
          "output_type": "stream",
          "name": "stdout",
          "text": [
            "peednaraT\n"
          ]
        }
      ]
    },
    {
      "cell_type": "markdown",
      "source": [
        " 6.3 Write a program to check if a string is a palindrome."
      ],
      "metadata": {
        "id": "YpBbzz7DCqk7"
      }
    },
    {
      "cell_type": "code",
      "source": [
        "string = \"level\"\n",
        "reverse = string[::-1]\n",
        "if string == reverse:\n",
        "  print(\"palindrome\")\n",
        "else:\n",
        "  print(\"not palindrome\")"
      ],
      "metadata": {
        "colab": {
          "base_uri": "https://localhost:8080/"
        },
        "id": "-WPpQ1l6CvoR",
        "outputId": "150b42bc-1b50-4a66-80a8-a75b4e468c1f"
      },
      "execution_count": null,
      "outputs": [
        {
          "output_type": "stream",
          "name": "stdout",
          "text": [
            "palindrome\n"
          ]
        }
      ]
    },
    {
      "cell_type": "markdown",
      "source": [
        "7.1 Write a program to create a text file, write some text into it, and then read and\n",
        "print the content."
      ],
      "metadata": {
        "id": "Wafkd5jVEG35"
      }
    },
    {
      "cell_type": "code",
      "source": [
        "f = open(\"text.txt\",\"w\")\n",
        "f.write(\"Tarandeep\")\n",
        "f.close()\n",
        "f = open(\"text.txt\",\"r\")\n",
        "print(f.read())"
      ],
      "metadata": {
        "id": "hEYtIVfIwrEw",
        "colab": {
          "base_uri": "https://localhost:8080/"
        },
        "outputId": "8b4b6064-8a55-440c-b532-db943dd977eb"
      },
      "execution_count": null,
      "outputs": [
        {
          "output_type": "stream",
          "name": "stdout",
          "text": [
            "Tarandeep\n"
          ]
        }
      ]
    },
    {
      "cell_type": "markdown",
      "source": [
        " 7.2 Write a program to append text to an existing file and print the updated\n",
        "content."
      ],
      "metadata": {
        "id": "VzZx7rSudoaG"
      }
    },
    {
      "cell_type": "code",
      "source": [
        "f = open(\"text.txt\",\"w\")\n",
        "f.write(\"Tarandeep\")\n",
        "f.close()\n",
        "f= open(\"text.txt\",\"a\")\n",
        "f.write(\"Singh\")\n",
        "f.close()\n",
        "f = open(\"text.txt\",\"r\")\n",
        "print(f.read())"
      ],
      "metadata": {
        "colab": {
          "base_uri": "https://localhost:8080/"
        },
        "id": "d8wsG3jRd0Ef",
        "outputId": "355f852e-f9e6-4aaa-f83f-5b846e8297c8"
      },
      "execution_count": null,
      "outputs": [
        {
          "output_type": "stream",
          "name": "stdout",
          "text": [
            "TarandeepSingh\n"
          ]
        }
      ]
    },
    {
      "cell_type": "markdown",
      "source": [
        "7.3 Write a program to count the number of lines in a text file."
      ],
      "metadata": {
        "id": "bbb5Rqk23l4T"
      }
    },
    {
      "cell_type": "code",
      "source": [
        "f = open(\"text.txt\",\"w\")\n",
        "f.write(\"Tarandeep\")\n",
        "f.close()\n",
        "f = open(\"text.txt\",\"r\")\n",
        "print(len(f.readlines()))"
      ],
      "metadata": {
        "colab": {
          "base_uri": "https://localhost:8080/"
        },
        "id": "U9KUtVMj3s1y",
        "outputId": "cb93ba17-5fbc-4e51-b9c2-94c24c27df3c"
      },
      "execution_count": null,
      "outputs": [
        {
          "output_type": "stream",
          "name": "stdout",
          "text": [
            "1\n"
          ]
        }
      ]
    },
    {
      "cell_type": "markdown",
      "source": [
        " 8.1 Write a program to handle division by zero using a\n",
        "try-except block"
      ],
      "metadata": {
        "id": "Pth_6rYF5M8h"
      }
    },
    {
      "cell_type": "code",
      "source": [
        "a = int(input(\"Enter a:\"))\n",
        "b = int(input(\"enter b:\"))\n",
        "try:\n",
        "  print(a/b)\n",
        "except ZeroDivisionError:\n",
        "  print(\"Enter a valid number\")\n"
      ],
      "metadata": {
        "colab": {
          "base_uri": "https://localhost:8080/"
        },
        "id": "JboEbUnj5RRp",
        "outputId": "735f1645-6843-49b5-c041-2578a128aa9d"
      },
      "execution_count": null,
      "outputs": [
        {
          "output_type": "stream",
          "name": "stdout",
          "text": [
            "Enter a:10\n",
            "enter b:0\n",
            "Enter a valid number\n"
          ]
        }
      ]
    },
    {
      "cell_type": "markdown",
      "source": [
        "8.2 Write a program to handle invalid input (e.g., when the user enters a string\n",
        "instead of a number)."
      ],
      "metadata": {
        "id": "_ZZb-rKu_JR-"
      }
    },
    {
      "cell_type": "code",
      "source": [
        "try:\n",
        "  a = int(input(\"Enter a:\"))\n",
        "  print(a)\n",
        "except ValueError:\n",
        "  print(\"Enter a integer value only\")"
      ],
      "metadata": {
        "colab": {
          "base_uri": "https://localhost:8080/"
        },
        "id": "zbU0Tc4O_QRx",
        "outputId": "ba4bb7e6-30ac-4c64-9f04-b03b711b4da7"
      },
      "execution_count": null,
      "outputs": [
        {
          "output_type": "stream",
          "name": "stdout",
          "text": [
            "Enter a:abc\n",
            "Enter a integer value only\n"
          ]
        }
      ]
    },
    {
      "cell_type": "markdown",
      "source": [
        "8.3 Write a program to demonstrate the use of\n",
        "finally in exception handling."
      ],
      "metadata": {
        "id": "eX2eUHCsAyXH"
      }
    },
    {
      "cell_type": "code",
      "source": [
        "a = int(input(\"Enter a:\"))\n",
        "b = int(input(\"Enter b:\"))\n",
        "try:\n",
        "  print(a/b)\n",
        "except ZeroDivisionError:\n",
        "  print(\"Enter a valid number\")\n",
        "except ValueError:\n",
        "  print(\"Enter a integer value only\")\n",
        "finally:\n",
        "  print(\"Program completed with no error\")"
      ],
      "metadata": {
        "colab": {
          "base_uri": "https://localhost:8080/"
        },
        "id": "v6Kjv2GwA3Pz",
        "outputId": "d902d592-b643-41f4-9d66-efceda3e2e97"
      },
      "execution_count": null,
      "outputs": [
        {
          "output_type": "stream",
          "name": "stdout",
          "text": [
            "Enter a:10\n",
            "Enter b:0\n",
            "Enter a valid number\n",
            "Program completed with no error\n"
          ]
        }
      ]
    },
    {
      "cell_type": "markdown",
      "source": [
        " 9.1 Write a program to generate 5 random numbers between 1 and 100 and print\n",
        "them."
      ],
      "metadata": {
        "id": "DfLEz6CcNTrg"
      }
    },
    {
      "cell_type": "code",
      "source": [
        "import random\n",
        "for i in range(5):\n",
        "  print(\"5 random numbers are:\", random.randint(1,100))"
      ],
      "metadata": {
        "id": "_8E81EFbNZJ_",
        "colab": {
          "base_uri": "https://localhost:8080/"
        },
        "outputId": "f719e92b-c265-4ee3-86c4-715df2b5bc37"
      },
      "execution_count": null,
      "outputs": [
        {
          "output_type": "stream",
          "name": "stdout",
          "text": [
            "5 random numbers are: 5\n",
            "5 random numbers are: 72\n",
            "5 random numbers are: 92\n",
            "5 random numbers are: 98\n",
            "5 random numbers are: 16\n"
          ]
        }
      ]
    },
    {
      "cell_type": "markdown",
      "source": [
        "9.2 Write a program to generate a random number and check if it is prime."
      ],
      "metadata": {
        "id": "T3NNt2p5loY0"
      }
    },
    {
      "cell_type": "code",
      "source": [
        "import random\n",
        "number = random.randint(1,100)\n",
        "print(\"Random number is \", number)\n",
        "for i in range(2,number):\n",
        "  if number%i==0:\n",
        "    print(\"Not prime\")\n",
        "    break\n",
        "else:\n",
        "  print(\"Prime\")"
      ],
      "metadata": {
        "colab": {
          "base_uri": "https://localhost:8080/"
        },
        "id": "wcJdMfTLox4n",
        "outputId": "1053517f-e80a-4219-e55e-4a7bd4fd2e52"
      },
      "execution_count": null,
      "outputs": [
        {
          "output_type": "stream",
          "name": "stdout",
          "text": [
            "Random number is  31\n",
            "Prime\n"
          ]
        }
      ]
    },
    {
      "cell_type": "markdown",
      "source": [
        "9.3 Write a program to simulate rolling a six-sided die."
      ],
      "metadata": {
        "id": "TQWgzk1upvlr"
      }
    },
    {
      "cell_type": "code",
      "source": [
        "import random\n",
        "number = random.randint(1,6)\n",
        "print(\"Random number is \", number)"
      ],
      "metadata": {
        "colab": {
          "base_uri": "https://localhost:8080/"
        },
        "id": "6brH5UE8pzfi",
        "outputId": "99fc8560-c914-48bb-e182-8751f07ad153"
      },
      "execution_count": null,
      "outputs": [
        {
          "output_type": "stream",
          "name": "stdout",
          "text": [
            "Random number is  4\n"
          ]
        }
      ]
    },
    {
      "cell_type": "markdown",
      "source": [
        "9.4 Write a program to shuffle a list of numbers."
      ],
      "metadata": {
        "id": "7Lt7geshqFzT"
      }
    },
    {
      "cell_type": "code",
      "source": [
        "import random\n",
        "numbers = [1,2,3,4,5,6,7,8]\n",
        "random.shuffle(numbers)\n",
        "print(numbers)"
      ],
      "metadata": {
        "colab": {
          "base_uri": "https://localhost:8080/"
        },
        "id": "-Jv0FlcIqJp1",
        "outputId": "a291a1a5-26b5-4b42-bd05-4b9c7af9d56e"
      },
      "execution_count": null,
      "outputs": [
        {
          "output_type": "stream",
          "name": "stdout",
          "text": [
            "[3, 5, 6, 1, 4, 8, 2, 7]\n"
          ]
        }
      ]
    },
    {
      "cell_type": "markdown",
      "source": [
        "9.5 Write a program to randomly select an item from a list."
      ],
      "metadata": {
        "id": "jk33wYiYqlC5"
      }
    },
    {
      "cell_type": "code",
      "source": [
        "import random\n",
        "item = ['gursher', 'taran', 'ansh', 'sehaj']\n",
        "print(random.choice(item))"
      ],
      "metadata": {
        "id": "9DC-1zeLqqlA",
        "colab": {
          "base_uri": "https://localhost:8080/"
        },
        "outputId": "15b8fa69-e913-45f3-efc8-b4014686ae0d"
      },
      "execution_count": null,
      "outputs": [
        {
          "output_type": "stream",
          "name": "stdout",
          "text": [
            "taran\n"
          ]
        }
      ]
    },
    {
      "cell_type": "markdown",
      "source": [
        "9.6 Write a program to generate a random password of given length."
      ],
      "metadata": {
        "id": "JQ_h1wnn9azg"
      }
    },
    {
      "cell_type": "code",
      "source": [
        "import random\n",
        "\n",
        "password = \"\"\n",
        "length = int(input(\"Enter the length of password: \"))\n",
        "\n",
        "if length < 4:\n",
        "  print(\"Invalid length entered , minimum length is 4\")\n",
        "# length = 4\n",
        "\n",
        "uppercas = \"ABCDEFGHIJKLMNOPQRSTUVWXYZ\"\n",
        "lowercas = \"abcdefghijklmnopqrstuvwxyz\"\n",
        "number = \"0123456789\"\n",
        "symbols = \"!@#$%^\"\n",
        "\n",
        "password += random.choice(uppercas)+random.choice(lowercas)+random.choice(number)+random.choice(symbols)\n",
        "\n",
        "allSum = uppercas + lowercas + number + symbols\n",
        "\n",
        "for i in range(length - 4):\n",
        "  password += random.choice(allSum)\n",
        "\n",
        "passwordFinal = list(password)\n",
        "random.shuffle(passwordFinal)\n",
        "password = \"\".join(passwordFinal)\n",
        "\n",
        "print(\"Password is : \" , password)"
      ],
      "metadata": {
        "colab": {
          "base_uri": "https://localhost:8080/"
        },
        "id": "hOCpunid9fph",
        "outputId": "dd4097a0-94ae-406b-8fd1-ba16e73fb415"
      },
      "execution_count": null,
      "outputs": [
        {
          "output_type": "stream",
          "name": "stdout",
          "text": [
            "Enter the length of password: 9\n",
            "Password is :  @gbI0wHU0\n"
          ]
        }
      ]
    },
    {
      "cell_type": "markdown",
      "source": [
        " 9.7 Write a program to pick a random card from a standard deck of 52 cards."
      ],
      "metadata": {
        "id": "V-p-b-tQ-Vbq"
      }
    },
    {
      "cell_type": "code",
      "source": [
        "import random\n",
        "suits=[\"hearts\",\"diamonds\",\"clubs\",\"spades\"]\n",
        "ranks=[\"ace\",\"2\",\"3\",\"4\",\"5\",\"6\",\"7\",\"8\",\"9\",\"10\",\"jack\",\"queen\",\"king\"]\n",
        "rs=random.choice(suits)\n",
        "rr=random.choice(ranks)\n",
        "print(\"Card: \",rr,\" of \",rs)"
      ],
      "metadata": {
        "colab": {
          "base_uri": "https://localhost:8080/"
        },
        "id": "Sg0sRKex-9WL",
        "outputId": "1387531e-10a2-4899-8af5-d4f615f00fac"
      },
      "execution_count": null,
      "outputs": [
        {
          "output_type": "stream",
          "name": "stdout",
          "text": [
            "Card:  king  of  spades\n"
          ]
        }
      ]
    },
    {
      "cell_type": "markdown",
      "source": [
        "10.1 Write a program to accept two numbers as command-line arguments, add\n",
        "them, and print the result."
      ],
      "metadata": {
        "id": "jlZcm2si_KCz"
      }
    },
    {
      "cell_type": "code",
      "source": [
        "import sys\n",
        "if len(sys.argv) != 3:\n",
        "    print(\"Usage: python script_name.py <number1> <number2>\")\n",
        "    sys.exit(1)\n",
        "number1 = float(sys.argv[1])\n",
        "number2 = float(sys.argv[2])\n",
        "result = number1 + number2\n",
        "print(f\"The sum of {number1} and {number2} is: {result}\")"
      ],
      "metadata": {
        "colab": {
          "base_uri": "https://localhost:8080/"
        },
        "id": "ErKe6AgM_RXY",
        "outputId": "6f9cdb9f-831a-4000-9800-1bf54b9b6bf2"
      },
      "execution_count": null,
      "outputs": [
        {
          "output_type": "stream",
          "name": "stdout",
          "text": [
            "The sum of 3.0 and 7.0 is: 10.0\n"
          ]
        }
      ]
    },
    {
      "cell_type": "markdown",
      "source": [
        "10.2 Write a program to accept a string as a command-line argument and print its\n",
        "length."
      ],
      "metadata": {
        "id": "oqxzYmVT_f-R"
      }
    },
    {
      "cell_type": "code",
      "source": [
        "import sys\n",
        "if len(sys.argv) != 2:\n",
        "    print(\"Usage: python script_name.py <string>\")\n",
        "    sys.exit(1)\n",
        "input_string = sys.argv[1]\n",
        "string_length = len(input_string)\n",
        "print(f\"The length of the string '{input_string}' is: {string_length}\")\n",
        "# doubt in this question"
      ],
      "metadata": {
        "id": "ZC-flMFH_jEg"
      },
      "execution_count": null,
      "outputs": []
    },
    {
      "cell_type": "markdown",
      "source": [
        " 11.1 Write a program to use the\n",
        "math library to calculate the square root of a given\n",
        "number."
      ],
      "metadata": {
        "id": "kC38AhBh__sO"
      }
    },
    {
      "cell_type": "code",
      "source": [
        "import math\n",
        "def calculate_square_root(number):\n",
        "    return math.sqrt(number)\n",
        "number = 9\n",
        "square_root = calculate_square_root(number)\n",
        "print(f\"The square root of {number} is: {square_root}\")"
      ],
      "metadata": {
        "colab": {
          "base_uri": "https://localhost:8080/"
        },
        "id": "axV7WA0dACQz",
        "outputId": "6217c1a8-db8b-44b7-d6bf-984a43244e60"
      },
      "execution_count": null,
      "outputs": [
        {
          "output_type": "stream",
          "name": "stdout",
          "text": [
            "The square root of 9 is: 3.0\n"
          ]
        }
      ]
    },
    {
      "cell_type": "markdown",
      "source": [
        "11.2 Write a program to use the\n",
        "datetime library to print the current date and time."
      ],
      "metadata": {
        "id": "AFpCUFYaAI2d"
      }
    },
    {
      "cell_type": "code",
      "source": [
        "import datetime\n",
        "\n",
        "def print_current_datetime():\n",
        "    current_datetime = datetime.datetime.now()\n",
        "    print(f\"The current date and time is: {current_datetime}\")\n",
        "print_current_datetime()"
      ],
      "metadata": {
        "colab": {
          "base_uri": "https://localhost:8080/"
        },
        "id": "4wqHi7A4ALYw",
        "outputId": "0afa80fc-9a4b-4769-d702-5df4af7c215f"
      },
      "execution_count": null,
      "outputs": [
        {
          "output_type": "stream",
          "name": "stdout",
          "text": [
            "The current date and time is: 2025-01-13 14:10:55.438152\n"
          ]
        }
      ]
    },
    {
      "cell_type": "markdown",
      "source": [
        "11.3 Write a program to use the\n",
        "os library to list all files in the current directory."
      ],
      "metadata": {
        "id": "LA-hWu7kAX1A"
      }
    },
    {
      "cell_type": "code",
      "source": [
        "import os\n",
        "\n",
        "def list_files_in_current_directory():\n",
        "    files = os.listdir('.')\n",
        "    return files\n",
        "files = list_files_in_current_directory()\n",
        "print(\"Files in the current directory:\")\n",
        "for file in files:\n",
        "    print(file)"
      ],
      "metadata": {
        "colab": {
          "base_uri": "https://localhost:8080/"
        },
        "id": "CwyJP0JmAbg9",
        "outputId": "54afa9aa-00fb-439d-9bb8-0e813591bc84"
      },
      "execution_count": null,
      "outputs": [
        {
          "output_type": "stream",
          "name": "stdout",
          "text": [
            "Files in the current directory:\n",
            ".config\n",
            "sample_data\n"
          ]
        }
      ]
    }
  ]
}