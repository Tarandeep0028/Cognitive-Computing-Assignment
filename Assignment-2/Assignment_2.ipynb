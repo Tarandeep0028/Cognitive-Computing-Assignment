{
  "nbformat": 4,
  "nbformat_minor": 0,
  "metadata": {
    "colab": {
      "provenance": []
    },
    "kernelspec": {
      "name": "python3",
      "display_name": "Python 3"
    },
    "language_info": {
      "name": "python"
    }
  },
  "cells": [
    {
      "cell_type": "markdown",
      "source": [
        "1. Create a List L that is defined as= [10, 20, 30, 40, 50, 60, 70, 80].\n",
        "  \n",
        "  i.WAP to add 200 and 300 to L."
      ],
      "metadata": {
        "id": "BqUA3xu4rVFJ"
      }
    },
    {
      "cell_type": "code",
      "source": [
        "List = [10,20,30,40,50,60,70,80]\n",
        "print(List)\n",
        "List.append(200)\n",
        "List.append(300)\n",
        "print(List)"
      ],
      "metadata": {
        "colab": {
          "base_uri": "https://localhost:8080/"
        },
        "id": "a3bxtkTirb6b",
        "outputId": "b59d6502-ba01-497b-bdb6-a5baae7edc6b"
      },
      "execution_count": 1,
      "outputs": [
        {
          "output_type": "stream",
          "name": "stdout",
          "text": [
            "[10, 20, 30, 40, 50, 60, 70, 80]\n",
            "[10, 20, 30, 40, 50, 60, 70, 80, 200, 300]\n"
          ]
        }
      ]
    },
    {
      "cell_type": "markdown",
      "source": [
        "ii. WAP to remove 10 and 30 from L."
      ],
      "metadata": {
        "id": "RXQq0BrsuzKv"
      }
    },
    {
      "cell_type": "code",
      "source": [
        "List = [10,20,30,40,50,60,70,80]\n",
        "print(List)\n",
        "List.remove(10)\n",
        "List.remove(30)\n",
        "print(List)"
      ],
      "metadata": {
        "colab": {
          "base_uri": "https://localhost:8080/"
        },
        "id": "GfYMZcMTvBCv",
        "outputId": "f44141f4-467b-4d50-e271-2c7e65e5ca48"
      },
      "execution_count": 3,
      "outputs": [
        {
          "output_type": "stream",
          "name": "stdout",
          "text": [
            "[10, 20, 30, 40, 50, 60, 70, 80]\n",
            "[20, 40, 50, 60, 70, 80]\n"
          ]
        }
      ]
    },
    {
      "cell_type": "markdown",
      "source": [
        "iii. WAP to sort L in ascending order."
      ],
      "metadata": {
        "id": "ru6d9U7ZxDKe"
      }
    },
    {
      "cell_type": "code",
      "source": [
        "List = [10,20,40,30,50,70,60,80]\n",
        "print(List)\n",
        "List.sort()\n",
        "print(List)"
      ],
      "metadata": {
        "colab": {
          "base_uri": "https://localhost:8080/"
        },
        "id": "aOJM_omoxKK6",
        "outputId": "006d5682-4977-4068-8cd3-015a334093e8"
      },
      "execution_count": 4,
      "outputs": [
        {
          "output_type": "stream",
          "name": "stdout",
          "text": [
            "[10, 20, 40, 30, 50, 70, 60, 80]\n",
            "[10, 20, 30, 40, 50, 60, 70, 80]\n"
          ]
        }
      ]
    },
    {
      "cell_type": "markdown",
      "source": [
        "iv. WAP to sort L in descending order."
      ],
      "metadata": {
        "id": "d933CHXQxbkE"
      }
    },
    {
      "cell_type": "code",
      "source": [
        "List = [10,20,40,30,50,70,60,80]\n",
        "print(List)\n",
        "List.sort(reverse=True)\n",
        "print(List)"
      ],
      "metadata": {
        "id": "sV1Cf2VKxlaP"
      },
      "execution_count": null,
      "outputs": []
    },
    {
      "cell_type": "code",
      "source": [
        "#2.\tCreate a tuple of marks scored as scores = (45, 89.5, 76, 45.4, 89, 92, 58, 45) and perform the following operations using tuple functions:\n",
        "\n",
        "Tuple = (45, 89.5, 76, 45.4, 89, 92, 58, 45)\n",
        "\n",
        "#i.\tIdentify the highest score and its index in the tuple.\n",
        "max = Tuple[0]\n",
        "maxIndex = 0\n",
        "\n",
        "for i in range(len(Tuple)):\n",
        "  if max < Tuple[i]:\n",
        "    max = Tuple[i]\n",
        "    maxIndex = i\n",
        "\n",
        "print(f'max element {max} is present at index {maxIndex} ')\n",
        "\n",
        "#ii.\tFind the lowest score and count how many times it appears.\n",
        "\n",
        "min = Tuple[0]\n",
        "minIndex = 0\n",
        "\n",
        "for i in range(len(Tuple)):\n",
        "  if min > Tuple[i]:\n",
        "    min = Tuple[0]\n",
        "\n",
        "print(f'Minimum is = {min}')\n",
        "print(Tuple.count(min));\n",
        "\n",
        "#iii. \tReverse the tuple and return it as a list.\n",
        "ans =  Tuple[::-1]\n",
        "ans_list = list(ans)\n",
        "print(ans_list)\n",
        "\n",
        "#iv. \tCheck if a specific score ‘76’ (input by the user) is present in the tuple and print its first occurrence index, or a message saying it’s not present.\n",
        "\n",
        "x = int(input(\"Please enter element to find: \"))\n",
        "\n",
        "found = ans.count(x)\n",
        "\n",
        "if found==0:\n",
        "  print(\"Element not present in list\")\n",
        "else:\n",
        "  print(f'Element is = {x}')"
      ],
      "metadata": {
        "colab": {
          "base_uri": "https://localhost:8080/"
        },
        "id": "75S4PNTXx1wo",
        "outputId": "e8c56989-6f9f-45db-8e59-1297f784a183"
      },
      "execution_count": 6,
      "outputs": [
        {
          "output_type": "stream",
          "name": "stdout",
          "text": [
            "max element 92 is present at index 5 \n",
            "Minimum is = 45\n",
            "2\n",
            "[45, 58, 92, 89, 45.4, 76, 89.5, 45]\n",
            "Please enter element to find: 45\n",
            "Element is = 45\n"
          ]
        }
      ]
    },
    {
      "cell_type": "code",
      "source": [
        "#3.\tWAP to create a list of 100 random numbers between 100 and 900. Count and print the:\n",
        "\n",
        "from random import *\n",
        "from math import *\n",
        "\n",
        "randomizer = []\n",
        "#i.\tAll odd numbers\n",
        "for i in range(100):\n",
        "  randomizer.append(randint(100,900))\n",
        "\n",
        "countOdd=0\n",
        "for i in range(100):\n",
        "  if randomizer[i]%2!=0:\n",
        "    print(randomizer[i])\n",
        "    countOdd+=1\n",
        "\n",
        "print(f'Odd numbers = {countOdd}')\n",
        "\n",
        "#ii.\tAll even numbers\n",
        "countEven=0\n",
        "for i in range(100):\n",
        "  if randomizer[i]%2==0:\n",
        "    print(randomizer[i])\n",
        "    countEven+=1\n",
        "\n",
        "print(f'Even numbers = {countEven}')\n",
        "\n",
        "#iii.\tAll prime numbers\n",
        "countPrime=0\n",
        "for i in range(100):\n",
        "  prime = True\n",
        "  for j in range(2,int(sqrt(randomizer[i]))+1):\n",
        "    if randomizer[i]%j==0:\n",
        "      prime = False\n",
        "      break\n",
        "  if prime==False:\n",
        "    continue\n",
        "  else:\n",
        "     countPrime+=1\n",
        "     print(randomizer[i])\n",
        "\n",
        "print(f'Prime numbers = {countPrime}')"
      ],
      "metadata": {
        "colab": {
          "base_uri": "https://localhost:8080/"
        },
        "id": "ro-U_Ws8ziVN",
        "outputId": "643ba139-634c-4fbc-beea-de9d30c07817"
      },
      "execution_count": 5,
      "outputs": [
        {
          "output_type": "stream",
          "name": "stdout",
          "text": [
            "557\n",
            "715\n",
            "515\n",
            "609\n",
            "885\n",
            "105\n",
            "427\n",
            "115\n",
            "415\n",
            "401\n",
            "127\n",
            "131\n",
            "779\n",
            "775\n",
            "855\n",
            "649\n",
            "137\n",
            "541\n",
            "485\n",
            "869\n",
            "689\n",
            "689\n",
            "223\n",
            "427\n",
            "337\n",
            "749\n",
            "399\n",
            "899\n",
            "821\n",
            "213\n",
            "683\n",
            "685\n",
            "485\n",
            "621\n",
            "115\n",
            "755\n",
            "111\n",
            "329\n",
            "843\n",
            "685\n",
            "429\n",
            "511\n",
            "325\n",
            "497\n",
            "373\n",
            "857\n",
            "617\n",
            "707\n",
            "265\n",
            "169\n",
            "653\n",
            "Odd numbers = 51\n",
            "746\n",
            "716\n",
            "514\n",
            "626\n",
            "478\n",
            "304\n",
            "670\n",
            "168\n",
            "538\n",
            "200\n",
            "258\n",
            "284\n",
            "440\n",
            "444\n",
            "470\n",
            "192\n",
            "340\n",
            "660\n",
            "786\n",
            "484\n",
            "446\n",
            "780\n",
            "238\n",
            "632\n",
            "254\n",
            "366\n",
            "176\n",
            "764\n",
            "344\n",
            "222\n",
            "728\n",
            "432\n",
            "200\n",
            "234\n",
            "474\n",
            "654\n",
            "204\n",
            "206\n",
            "442\n",
            "578\n",
            "834\n",
            "598\n",
            "458\n",
            "398\n",
            "390\n",
            "666\n",
            "886\n",
            "436\n",
            "696\n",
            "Even numbers = 49\n",
            "557\n",
            "401\n",
            "127\n",
            "131\n",
            "137\n",
            "541\n",
            "223\n",
            "337\n",
            "821\n",
            "683\n",
            "373\n",
            "857\n",
            "617\n",
            "653\n",
            "Prime numbers = 14\n"
          ]
        }
      ]
    },
    {
      "cell_type": "markdown",
      "source": [
        "Consider the following sets representing scores of two teams:\n",
        "A = {34, 56, 78, 90} and B = {78, 45, 90, 23} . Perform the following operations:"
      ],
      "metadata": {
        "id": "8EHyyc9u0TCZ"
      }
    },
    {
      "cell_type": "code",
      "source": [
        "A = {34,56,78,90}\n",
        "B = {78,45,90,23}\n",
        "\n",
        "#i.\tFind the unique scores achieved by both teams (union).\n",
        "\n",
        "unionAB = A | B\n",
        "print(unionAB)\n",
        "\n",
        "#ii.\tIdentify the scores that are common to both teams (intersection).\n",
        "\n",
        "intersectionAB = A & B\n",
        "print(intersectionAB)\n",
        "\n",
        "#iii.\tFind the scores that are exclusive to each team (symmetric difference).\n",
        "\n",
        "symdiffAB = A ^ B\n",
        "print(symdiffAB)\n",
        "\n",
        "#iv.Check if the scores of team A are a subset of team B, and if team B's scores are a superset of team A.\n",
        "\n",
        "checkFirst =  A.issubset(B)\n",
        "checkSecond = B.issuperset(A)\n",
        "\n",
        "print(f'A is a subset of B?? --> {checkFirst}')\n",
        "print(f'B is a superset of A?? --> {checkSecond}')\n",
        "\n",
        "#v.\tRemove a specific score X (input by the user) from set A if it exists. If not, print a message saying it is not present.\n",
        "\n",
        "x = int(input(\"Enter element to remove: \"))\n",
        "\n",
        "if x in A:\n",
        "    A.remove(x)\n",
        "    print(f\"Element {x} has been removed \")\n",
        "else:\n",
        "    print(f\"Element {x} is not present\")\n"
      ],
      "metadata": {
        "colab": {
          "base_uri": "https://localhost:8080/"
        },
        "id": "l_NEo_Az0Mno",
        "outputId": "d6493b51-ed43-44b4-a5fc-976f88745231"
      },
      "execution_count": 7,
      "outputs": [
        {
          "output_type": "stream",
          "name": "stdout",
          "text": [
            "{34, 45, 78, 23, 56, 90}\n",
            "{90, 78}\n",
            "{34, 45, 23, 56}\n",
            "A is a subset of B?? --> False\n",
            "B is a superset of A?? --> False\n",
            "Enter element to remove: 23\n",
            "Element 23 is not present\n"
          ]
        }
      ]
    },
    {
      "cell_type": "markdown",
      "source": [
        "Write a program to rename a key city to location in the following dictionary:\n",
        "\n",
        "data = {\"city\": \"New York\", \"population\": 8419600, \"area\": 468.9} ."
      ],
      "metadata": {
        "id": "WsRnKcx-06Hc"
      }
    },
    {
      "cell_type": "code",
      "source": [
        "data = {\n",
        "    \"city\" : \"New York\",\n",
        "    \"population\" : 8419600,\n",
        "    \"area\" : 468.9\n",
        "}\n",
        "\n",
        "data[\"location\"] = data[\"city\"]\n",
        "data.pop(\"city\")\n",
        "\n",
        "print(data);"
      ],
      "metadata": {
        "colab": {
          "base_uri": "https://localhost:8080/"
        },
        "id": "_CM1c-UP01Hc",
        "outputId": "f1e78645-ddb0-4e4c-84b9-a650918fdd6b"
      },
      "execution_count": 8,
      "outputs": [
        {
          "output_type": "stream",
          "name": "stdout",
          "text": [
            "{'population': 8419600, 'area': 468.9, 'location': 'New York'}\n"
          ]
        }
      ]
    }
  ]
}