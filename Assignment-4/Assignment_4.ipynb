{
  "nbformat": 4,
  "nbformat_minor": 0,
  "metadata": {
    "colab": {
      "provenance": []
    },
    "kernelspec": {
      "name": "python3",
      "display_name": "Python 3"
    },
    "language_info": {
      "name": "python"
    }
  },
  "cells": [
    {
      "cell_type": "markdown",
      "source": [
        "Q.1 Write a program to create a NumPy 1D-array with 5 elements and perform basic\n",
        "operations like:\n",
        "- Addition of 2 in all the element  \n",
        "- Multiply 3 with all the elements\n",
        "- Divide every element by 2"
      ],
      "metadata": {
        "id": "LdyDUX7nbTWz"
      }
    },
    {
      "cell_type": "code",
      "execution_count": 1,
      "metadata": {
        "colab": {
          "base_uri": "https://localhost:8080/"
        },
        "id": "OnaO3dk2a7k-",
        "outputId": "6184b137-a3a2-4809-bec5-374dc1c0ef0b"
      },
      "outputs": [
        {
          "output_type": "stream",
          "name": "stdout",
          "text": [
            "[3 4 5 6 7]\n",
            "[ 3  6  9 12 15]\n",
            "[0.5 1.  1.5 2.  2.5]\n"
          ]
        }
      ],
      "source": [
        "import numpy as np\n",
        "arr = np.array([1,2,3,4,5])\n",
        "print(arr + 2)\n",
        "print(arr*3)\n",
        "print(arr/2)"
      ]
    },
    {
      "cell_type": "markdown",
      "source": [
        "Q.2 Questions on Basic NumPy Array:\n",
        "- Reverse the NumPy array: arr = np.array([1, 2, 3, 6, 4, 5]) **bold text**"
      ],
      "metadata": {
        "id": "sVb1xdKUca0o"
      }
    },
    {
      "cell_type": "code",
      "source": [
        "import numpy as np\n",
        "arr = np.array([1, 2, 3, 6, 4, 5])\n",
        "reversed_arr = arr[::-1]\n",
        "print(\"Reversed array:\", reversed_arr)"
      ],
      "metadata": {
        "colab": {
          "base_uri": "https://localhost:8080/"
        },
        "id": "-ltHiT4fcvbx",
        "outputId": "3a6edbb3-d4a3-4bea-a704-827bcac359ec"
      },
      "execution_count": 2,
      "outputs": [
        {
          "output_type": "stream",
          "name": "stdout",
          "text": [
            "Reversed array: [5 4 6 3 2 1]\n"
          ]
        }
      ]
    },
    {
      "cell_type": "markdown",
      "source": [
        "- Find the most frequent value and their indice(s) in the following arrays:\n",
        "     - x = np.array([1,2,3,4,5,1,2,1,1,1])\n",
        "     - y = np.array([1, 1, 1, 2, 3, 4, 2, 4, 3, 3, ])"
      ],
      "metadata": {
        "id": "zntby1KodMZG"
      }
    },
    {
      "cell_type": "code",
      "source": [
        "x = np.array([1,2,3,4,5,1,2,1,1,1])\n",
        "mfreqx= np.bincount(x)\n",
        "print(mfreqx.argmax())\n",
        "indicesx=np.where(x== mfreqx.argmax())\n",
        "print(indicesx[0])\n",
        "\n",
        "y = np.array([1,1,1,2,3,4,2,4,3,3])\n",
        "mfreqy= np.bincount(y)\n",
        "print(mfreqy.argmax())\n",
        "indicesy=np.where(y== mfreqy.argmax())\n",
        "print(indicesy[0])"
      ],
      "metadata": {
        "colab": {
          "base_uri": "https://localhost:8080/"
        },
        "id": "meTyPvCddNTt",
        "outputId": "1a11b20a-e7f4-47f6-a2a7-37a7b989e7d6"
      },
      "execution_count": 3,
      "outputs": [
        {
          "output_type": "stream",
          "name": "stdout",
          "text": [
            "1\n",
            "[0 5 7 8 9]\n",
            "1\n",
            "[0 1 2]\n"
          ]
        }
      ]
    },
    {
      "cell_type": "markdown",
      "source": [
        "Q.3 For the given 2-D array arr=np.array([10, 20, 30], [40, 50, 60], [70, 80, 90]), access\n",
        "elements using row and column indices as follows:\n",
        "- Access 1st row, 2nd column  \n",
        "- Access 3rd row, 1st column"
      ],
      "metadata": {
        "id": "xaqL3Wy8gLY4"
      }
    },
    {
      "cell_type": "code",
      "source": [
        "arr=np.array([[10,20,30],[40,50,60],[70,80,90]])\n",
        "\n",
        "print(arr[0,1])\n",
        "print(arr[2,0])"
      ],
      "metadata": {
        "colab": {
          "base_uri": "https://localhost:8080/"
        },
        "id": "STEYQ1xIgRtR",
        "outputId": "d714b376-0c26-4227-cd3d-9c217ecc8765"
      },
      "execution_count": 4,
      "outputs": [
        {
          "output_type": "stream",
          "name": "stdout",
          "text": [
            "20\n",
            "70\n"
          ]
        }
      ]
    },
    {
      "cell_type": "markdown",
      "source": [
        "Q.4 Write program to create an 1-D NumPy array named <<Your Name>> with evenly\n",
        "spaced 25 numbers from 10 to 100 using linspace(). Print the dimensions of the array,\n",
        "shape, total elements, the data type of each element and total number of bytes consumed\n",
        "by the array. Find the transpose of this array using reshape() attribute. Can we do the same\n",
        "with T attribute?"
      ],
      "metadata": {
        "id": "W90QzbvdgVvR"
      }
    },
    {
      "cell_type": "code",
      "source": [
        "Tarandeep = np.linspace(10,100,num=25)\n",
        "print(Tarandeep)\n",
        "\n",
        "print(Tarandeep.shape)\n",
        "\n",
        "print(Tarandeep.size)\n",
        "\n",
        "print(Tarandeep.dtype)\n",
        "\n",
        "print(Tarandeep.nbytes)\n",
        "\n",
        "print(Tarandeep.reshape(Tarandeep.size,1))\n",
        "\n",
        "arrtranspose= Tarandeep.T\n",
        "print(arrtranspose)"
      ],
      "metadata": {
        "colab": {
          "base_uri": "https://localhost:8080/"
        },
        "id": "IMzaMZENgl1K",
        "outputId": "f877584f-d933-4d81-abfb-6cc77dc2da25"
      },
      "execution_count": 5,
      "outputs": [
        {
          "output_type": "stream",
          "name": "stdout",
          "text": [
            "[ 10.    13.75  17.5   21.25  25.    28.75  32.5   36.25  40.    43.75\n",
            "  47.5   51.25  55.    58.75  62.5   66.25  70.    73.75  77.5   81.25\n",
            "  85.    88.75  92.5   96.25 100.  ]\n",
            "(25,)\n",
            "25\n",
            "float64\n",
            "200\n",
            "[[ 10.  ]\n",
            " [ 13.75]\n",
            " [ 17.5 ]\n",
            " [ 21.25]\n",
            " [ 25.  ]\n",
            " [ 28.75]\n",
            " [ 32.5 ]\n",
            " [ 36.25]\n",
            " [ 40.  ]\n",
            " [ 43.75]\n",
            " [ 47.5 ]\n",
            " [ 51.25]\n",
            " [ 55.  ]\n",
            " [ 58.75]\n",
            " [ 62.5 ]\n",
            " [ 66.25]\n",
            " [ 70.  ]\n",
            " [ 73.75]\n",
            " [ 77.5 ]\n",
            " [ 81.25]\n",
            " [ 85.  ]\n",
            " [ 88.75]\n",
            " [ 92.5 ]\n",
            " [ 96.25]\n",
            " [100.  ]]\n",
            "[ 10.    13.75  17.5   21.25  25.    28.75  32.5   36.25  40.    43.75\n",
            "  47.5   51.25  55.    58.75  62.5   66.25  70.    73.75  77.5   81.25\n",
            "  85.    88.75  92.5   96.25 100.  ]\n"
          ]
        }
      ]
    },
    {
      "cell_type": "markdown",
      "source": [
        "Q5. Create a 2-D Array of three rows and four columns, named ucs420_<your_name>>\n",
        "with following values – 10, 20, 30, 40, 50, 60, 70, 80, 90, 15, 20, 35. Compute the mean,\n",
        "median, max, min, unique elements. Reshape the array to four rows and three columns and\n",
        "name it as reshaped_ ucs420_<your_name>>. Resize the array to two rows and three\n",
        "columns and name it as resized_ ucs420_<your_name>>."
      ],
      "metadata": {
        "id": "uQN_BbunhCrr"
      }
    },
    {
      "cell_type": "code",
      "source": [
        "matrix=np.array([10,20,30,40,50,60,70,70,90,15,20,35])\n",
        "\n",
        "ucs420_tarandeep= matrix.reshape(3,4)\n",
        "Elmean=np.mean(ucs420_tarandeep)\n",
        "print(Elmean)\n",
        "\n",
        "Elmedian=np.median(ucs420_tarandeep)\n",
        "print(Elmedian)\n",
        "\n",
        "maximum=np.max(ucs420_tarandeep)\n",
        "print(maximum)\n",
        "\n",
        "minimum=np.min(ucs420_tarandeep)\n",
        "print(minimum)\n",
        "\n",
        "uniqueel=np.unique(ucs420_tarandeep)\n",
        "print(uniqueel)\n",
        "\n",
        "reshaped_ucs420_tarandeep=ucs420_tarandeep.reshape(4,3)\n",
        "print(reshaped_ucs420_tarandeep)\n",
        "\n",
        "resized_ucs420_tarandeep=np.resize(ucs420_tarandeep,(2,3))\n",
        "print(resized_ucs420_tarandeep)"
      ],
      "metadata": {
        "colab": {
          "base_uri": "https://localhost:8080/"
        },
        "id": "_HsJiq8ghDKm",
        "outputId": "9957bc0c-69ae-47cd-d11e-4e7caeb6ec00"
      },
      "execution_count": 6,
      "outputs": [
        {
          "output_type": "stream",
          "name": "stdout",
          "text": [
            "42.5\n",
            "37.5\n",
            "90\n",
            "10\n",
            "[10 15 20 30 35 40 50 60 70 90]\n",
            "[[10 20 30]\n",
            " [40 50 60]\n",
            " [70 70 90]\n",
            " [15 20 35]]\n",
            "[[10 20 30]\n",
            " [40 50 60]]\n"
          ]
        }
      ]
    }
  ]
}