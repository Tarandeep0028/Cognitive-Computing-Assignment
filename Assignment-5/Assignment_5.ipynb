{
  "nbformat": 4,
  "nbformat_minor": 0,
  "metadata": {
    "colab": {
      "provenance": []
    },
    "kernelspec": {
      "name": "python3",
      "display_name": "Python 3"
    },
    "language_info": {
      "name": "python"
    }
  },
  "cells": [
    {
      "cell_type": "markdown",
      "source": [
        "Q.1 For the array gfg = np.matrix('[4, 1, 9; 12, 3, 1; 4, 5, 6]'), Find\n",
        "- Sum of all elements\n",
        "- Sum of all elements row-wise\n",
        "- Sum of all elements column-wise"
      ],
      "metadata": {
        "id": "57lCBjPYXArM"
      }
    },
    {
      "cell_type": "code",
      "source": [
        "import numpy as np\n",
        "gfg = np.matrix('[4,1,9;12,3,1;4,5,6]')\n",
        "sum = np.sum(gfg)\n",
        "print(sum)\n",
        "\n",
        "sum = np.sum(gfg, axis = 0)\n",
        "print(sum)\n",
        "\n",
        "sum = np.sum(gfg, axis = 1)\n",
        "print(sum)"
      ],
      "metadata": {
        "colab": {
          "base_uri": "https://localhost:8080/"
        },
        "id": "rDES7x8aXM8J",
        "outputId": "f1621285-c7f7-42ee-ba69-7900616e597d"
      },
      "execution_count": 1,
      "outputs": [
        {
          "output_type": "stream",
          "name": "stdout",
          "text": [
            "45\n",
            "[[20  9 16]]\n",
            "[[14]\n",
            " [16]\n",
            " [15]]\n"
          ]
        }
      ]
    },
    {
      "cell_type": "markdown",
      "source": [
        "Q.2\n",
        "(a) For the array: array = np.array([10, 52, 62, 16, 16, 54, 453]), find\n",
        "1. Sorted array\n",
        "2. Indices of sorted array\n",
        "3. 4 smallest elements\n",
        "4. 5 largest elements"
      ],
      "metadata": {
        "id": "M6CpZ46uXey9"
      }
    },
    {
      "cell_type": "code",
      "source": [
        "import numpy as np\n",
        "array = np.array([10,52,62,16,16,54,453])\n",
        "sorted_array = np.sort(array)\n",
        "print(sorted_array)\n",
        "indices = np.argsort(array)\n",
        "print(indices)\n",
        "print(sorted_array[:4])\n",
        "print(sorted_array[-5:])"
      ],
      "metadata": {
        "colab": {
          "base_uri": "https://localhost:8080/"
        },
        "id": "qrlPhdm_XfSf",
        "outputId": "9e75e8e2-914a-4213-a682-1f5e8c2d2411"
      },
      "execution_count": 2,
      "outputs": [
        {
          "output_type": "stream",
          "name": "stdout",
          "text": [
            "[ 10  16  16  52  54  62 453]\n",
            "[0 3 4 1 5 2 6]\n",
            "[10 16 16 52]\n",
            "[ 16  52  54  62 453]\n"
          ]
        }
      ]
    },
    {
      "cell_type": "markdown",
      "source": [
        "Q.2\n",
        "(b) For the array: array = np.array([1.0, 1.2, 2.2, 2.0, 3.0, 2.0]), find\n",
        "1. Integer elements only\n",
        "2. Float elements only"
      ],
      "metadata": {
        "id": "7HkcFcxpX39-"
      }
    },
    {
      "cell_type": "code",
      "source": [
        "import numpy as np\n",
        "array = np.array([1.0, 1.2, 2.2, 2.0,3.0, 2.0])\n",
        "int_array = array[array == array.astype(int)]\n",
        "print(int_array)\n",
        "float_array = array[array != array.astype(int)]\n",
        "print(float_array)"
      ],
      "metadata": {
        "colab": {
          "base_uri": "https://localhost:8080/"
        },
        "id": "5SgnmOM4YC3v",
        "outputId": "d5a01e05-21e0-4713-d326-d143ba4e3352"
      },
      "execution_count": 3,
      "outputs": [
        {
          "output_type": "stream",
          "name": "stdout",
          "text": [
            "[1. 2. 3. 2.]\n",
            "[1.2 2.2]\n"
          ]
        }
      ]
    },
    {
      "cell_type": "markdown",
      "source": [
        "Q.3 You are given a weekly sales dataset and need to perform various operations\n",
        "using NumPy broadcasting."
      ],
      "metadata": {
        "id": "3ViQ5oOdYJIT"
      }
    },
    {
      "cell_type": "markdown",
      "source": [
        "a) Generate your unique sales dataset:\n",
        "- Take the sum of the ASCII values of the initials of your first and last\n",
        "name. Call this value X. (If your initials are A B → ASCII sum = 65 + 66 = 131 → sales = [131, 181, 231, 281, 331].)\n",
        "- Create a NumPy array sales with values [X, X+50, X+100, X+150,\n",
        "X+200]."
      ],
      "metadata": {
        "id": "ttUThA7gYSHs"
      }
    },
    {
      "cell_type": "code",
      "source": [
        "import numpy as np\n",
        "X = 65 + 66\n",
        "sales = np.array([X, X + 50, X + 100, X + 150, X + 200])\n",
        "print(\"sales dataset : \", sales)"
      ],
      "metadata": {
        "colab": {
          "base_uri": "https://localhost:8080/"
        },
        "id": "K1NaHUqUYd_U",
        "outputId": "653b148c-311e-467b-ec80-7200fcca8577"
      },
      "execution_count": 4,
      "outputs": [
        {
          "output_type": "stream",
          "name": "stdout",
          "text": [
            "sales dataset :  [131 181 231 281 331]\n"
          ]
        }
      ]
    },
    {
      "cell_type": "markdown",
      "source": [
        "b) Compute your personalized tax rate as ((X % 5) + 5) / 100.\n",
        "- Use broadcasting to apply this tax rate to each sales value."
      ],
      "metadata": {
        "id": "xVddem26Yiwp"
      }
    },
    {
      "cell_type": "code",
      "source": [
        "tax_rate = ((X%5) +5)/100\n",
        "sales_after_tax = sales*(1 + tax_rate)\n",
        "print(\"sales after tax : \", sales_after_tax)"
      ],
      "metadata": {
        "colab": {
          "base_uri": "https://localhost:8080/"
        },
        "id": "4NIYhWEVYmIA",
        "outputId": "8fbc0f4c-9edd-444a-93d4-d98f1c3b1542"
      },
      "execution_count": 5,
      "outputs": [
        {
          "output_type": "stream",
          "name": "stdout",
          "text": [
            "sales after tax :  [138.86 191.86 244.86 297.86 350.86]\n"
          ]
        }
      ]
    },
    {
      "cell_type": "markdown",
      "source": [
        "c) Adjust sales based on discount:\n",
        "- If sales < X+100, apply a 5% discount.\n",
        "- If sales >= X+100, apply a 10% discount."
      ],
      "metadata": {
        "id": "Z_ORzmfKYsoq"
      }
    },
    {
      "cell_type": "code",
      "source": [
        "discounted_sale = np.where(sales < X + 100, sales*0.95, sales*0.9)\n",
        "print(\"discounted sales : \", discounted_sale)"
      ],
      "metadata": {
        "colab": {
          "base_uri": "https://localhost:8080/"
        },
        "id": "qx60o9oSYw_e",
        "outputId": "c2ab4612-eea2-481e-e58d-76b2665a1250"
      },
      "execution_count": 6,
      "outputs": [
        {
          "output_type": "stream",
          "name": "stdout",
          "text": [
            "discounted sales :  [124.45 171.95 207.9  252.9  297.9 ]\n"
          ]
        }
      ]
    },
    {
      "cell_type": "markdown",
      "source": [
        "d) Expand sales data for multiple weeks:\n",
        "- Create a 3×5 matrix representing three weeks of sales by stacking\n",
        "sales three times using broadcasting.\n",
        "- Increase sales by 2% per week using element-wise broadcasting.\n"
      ],
      "metadata": {
        "id": "hH05-iJnY2KS"
      }
    },
    {
      "cell_type": "code",
      "source": [
        "week_sale = np.tile(sales, (3,1))\n",
        "sale_increase = week_sale*(1 + 0.02)**np.arange(3).reshape(-1,1)\n",
        "print(sale_increase)"
      ],
      "metadata": {
        "colab": {
          "base_uri": "https://localhost:8080/"
        },
        "id": "cGUEVLLpY7Er",
        "outputId": "ee567a53-6b83-4c01-c328-d187a6fe256a"
      },
      "execution_count": 7,
      "outputs": [
        {
          "output_type": "stream",
          "name": "stdout",
          "text": [
            "[[131.     181.     231.     281.     331.    ]\n",
            " [133.62   184.62   235.62   286.62   337.62  ]\n",
            " [136.2924 188.3124 240.3324 292.3524 344.3724]]\n"
          ]
        }
      ]
    },
    {
      "cell_type": "markdown",
      "source": [
        "Q4. Generate x values using np.linspace() from -10 to 10 with 100 points. Use\n",
        "each function from the list below and compute y values using NumPy:\n",
        "- Y = x2\n",
        "- Y = sin(x)\n",
        "- Y = ex\n",
        "- Y = log(|x| + 1)\n",
        "\n",
        "Plot the chosen function using Matplotlib. Add title, labels, and grid for clarity."
      ],
      "metadata": {
        "id": "HkSmwWakZHOf"
      }
    },
    {
      "cell_type": "code",
      "source": [
        "import numpy as np\n",
        "import matplotlib.pyplot as plt\n",
        "x = np.linspace(-10,10,100)\n",
        "y1 = x**2\n",
        "y2 = np.sin(x)\n",
        "y3 = np.exp(x)\n",
        "y4 = np.log(abs(x) + 1)\n",
        "plt.figure(figsize=(10,6))\n",
        "plt.plot(x, y1, label='x^2', color = 'red')\n",
        "plt.plot(x, y2, label='sin(x)', color = 'blue')\n",
        "plt.plot(x, y3, label='exp(x)', color = 'green')\n",
        "plt.plot(x, y4, label='log(|x| + 1)', color = 'yellow')\n",
        "plt.xlabel('x')\n",
        "plt.ylabel('y')\n",
        "plt.title('Graph of Functions')\n",
        "plt.legend()\n",
        "plt.grid(True)\n",
        "plt.show()"
      ],
      "metadata": {
        "colab": {
          "base_uri": "https://localhost:8080/",
          "height": 564
        },
        "id": "W4lZECVPZSwm",
        "outputId": "4b9e873e-31a3-4ac2-dc8f-ffd5c8899371"
      },
      "execution_count": 8,
      "outputs": [
        {
          "output_type": "display_data",
          "data": {
            "text/plain": [
              "<Figure size 1000x600 with 1 Axes>"
            ],
            "image/png": "[encoded data removed]"
          },
          "metadata": {}
        }
      ]
    }
  ]
}